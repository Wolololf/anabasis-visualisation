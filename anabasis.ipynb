{
 "cells": [
  {
   "cell_type": "code",
   "execution_count": null,
   "metadata": {},
   "outputs": [],
   "source": [
    "import pandas as pd\n",
    "import geopandas as gpd\n",
    "import numpy as np\n",
    "import shapely\n",
    "from shapely.geometry import Point\n",
    "\n",
    "import plotly.express as px\n",
    "import plotly.graph_objects as go\n",
    "\n",
    "import ipywidgets as widgets"
   ]
  },
  {
   "cell_type": "code",
   "execution_count": null,
   "metadata": {},
   "outputs": [],
   "source": [
    "mapbox_access_token = open('Resources/token.mapbox_token').read()\n",
    "px.set_mapbox_access_token(mapbox_access_token)"
   ]
  },
  {
   "cell_type": "code",
   "execution_count": null,
   "metadata": {
    "tags": [
     "remove-output"
    ]
   },
   "outputs": [],
   "source": [
    "df = pd.read_csv('Resources/Anabasis.csv', keep_default_na=False)\n",
    "df['geometry'] = gpd.points_from_xy(df['longitude'], df['latitude'])\n",
    "\n",
    "gdf = gpd.GeoDataFrame(df)\n",
    "gdf.set_crs(epsg=4326, allow_override=True, inplace=True)"
   ]
  },
  {
   "cell_type": "code",
   "execution_count": null,
   "metadata": {
    "tags": [
     "remove-output"
    ]
   },
   "outputs": [],
   "source": [
    "start_date = np.datetime64('-401-04-20T00:00:00')\n",
    "\n",
    "def generate_date(date):\n",
    "    return start_date + np.timedelta64(date, 'D')\n",
    "\n",
    "gdf['start_date'] = gdf.apply(lambda row: generate_date(row['start_day']), axis = 1)\n",
    "gdf['end_date'] = gdf.apply(lambda row: generate_date(row['end_day']), axis = 1)"
   ]
  },
  {
   "cell_type": "code",
   "execution_count": null,
   "metadata": {
    "tags": [
     "remove-output"
    ]
   },
   "outputs": [],
   "source": [
    "months = [\"January\", \"February\", \"March\", \"April\", \"May\", \"June\", \"July\", \"August\", \"September\", \"October\", \"November\", \"December\"]\n",
    "\n",
    "def prettifyDate(date):\n",
    "    dateString = np.datetime_as_string(date, unit='D')\n",
    "    \n",
    "    isBC = dateString[0] == '-'\n",
    "    if isBC:\n",
    "        dateString = dateString[1:]\n",
    "    \n",
    "    parts = dateString.split('-')\n",
    "    \n",
    "    result = parts[2] + \" \" + months[int(parts[1]) - 1] + \" \" + parts[0]\n",
    "    if isBC:\n",
    "        result += \" BC\"\n",
    "    \n",
    "    return result"
   ]
  },
  {
   "cell_type": "code",
   "execution_count": null,
   "metadata": {
    "tags": [
     "remove-output"
    ]
   },
   "outputs": [],
   "source": [
    "marker_lookup = {\n",
    "    \"city\": \"castle\",\n",
    "    \"battle\": \"cross\",\n",
    "    \"harbour\": \"harbor\",\n",
    "    \"camp\": \"campsite\"\n",
    "}\n",
    "    \n",
    "def get_marker_symbol(event_type):\n",
    "    return marker_lookup.get(event_type)\n",
    "\n",
    "def get_travel_symbol():\n",
    "    return \"horse-riding\"\n",
    "\n",
    "gdf['marker'] = gdf.apply(lambda row: get_marker_symbol(row['event_type']), axis = 1)"
   ]
  },
  {
   "cell_type": "code",
   "execution_count": null,
   "metadata": {
    "tags": [
     "remove-output"
    ]
   },
   "outputs": [],
   "source": [
    "fig = go.Figure(\n",
    "    go.Scattermapbox(\n",
    "        lat=gdf.geometry.y,\n",
    "        lon=gdf.geometry.x,\n",
    "        mode='markers+lines',\n",
    "        marker_symbol=gdf.marker,\n",
    "        marker_size=15,\n",
    "        marker_color=\"white\",\n",
    "        customdata=np.stack((gdf['event_name'], gdf['start_date'].apply(prettifyDate), gdf['end_date'].apply(prettifyDate), gdf['event_description'], gdf['bibliography']), axis=-1),\n",
    "        hovertemplate = '<b>%{customdata[0]}</b><br><br>' +\n",
    "            'Start: %{customdata[1]}<br>'+\n",
    "            'End: %{customdata[2]}<br>'+\n",
    "            '%{customdata[3]}<br>'+\n",
    "            'Bibliography: %{customdata[4]}'+\n",
    "            '<extra></extra>'\n",
    "    )\n",
    ")"
   ]
  },
  {
   "cell_type": "code",
   "execution_count": null,
   "metadata": {
    "tags": [
     "remove-output"
    ]
   },
   "outputs": [],
   "source": [
    "extents_latitude =[gdf[\"latitude\"].min(), gdf[\"latitude\"].max()]\n",
    "extents_longitude =[gdf[\"longitude\"].min(), gdf[\"longitude\"].max()]\n",
    "max_bound = max(abs(extents_latitude[0]-extents_latitude[1]), abs(extents_longitude[0]-extents_longitude[1])) * 111\n",
    "zoom = 12.5 - np.log(max_bound)\n",
    "\n",
    "fig.update_layout(\n",
    "    title='Anabasis - March of the Ten Thousand',\n",
    "    autosize=False,\n",
    "    width=1000,\n",
    "    height=750,\n",
    "    hovermode='closest',\n",
    "    mapbox=dict(\n",
    "        accesstoken = mapbox_access_token,\n",
    "        bearing=0,\n",
    "        center=go.layout.mapbox.Center(\n",
    "            lat=extents_latitude[0] + (extents_latitude[1] - extents_latitude[0]) / 2,\n",
    "            lon=extents_longitude[0] + (extents_longitude[1] - extents_longitude[0]) / 2\n",
    "        ),\n",
    "        pitch=0,\n",
    "        zoom=zoom,\n",
    "        style='mapbox://styles/wolololf/ckjcyusqlks2a19qts3en5dnf'\n",
    "    ))"
   ]
  },
  {
   "cell_type": "code",
   "execution_count": null,
   "metadata": {
    "tags": [
     "remove-output"
    ]
   },
   "outputs": [],
   "source": [
    "days = range(gdf['end_day'].max() + 1)\n",
    "\n",
    "frames = []\n",
    "\n",
    "for day in days:\n",
    "    filtered_gdf = gdf[gdf['start_day'] <= day]\n",
    "\n",
    "    idx = filtered_gdf['start_day'].idxmax()\n",
    "    previous_day = filtered_gdf.iloc[idx]\n",
    "\n",
    "    if previous_day['end_day'] < day:\n",
    "        next_day = gdf.iloc[idx+1]\n",
    "\n",
    "        date = generate_date(day)\n",
    "\n",
    "        departure_day = previous_day['end_day']\n",
    "        arrival_day = next_day['start_day']\n",
    "        factor = (day - departure_day) / (arrival_day - departure_day)\n",
    "\n",
    "        lat = previous_day['latitude'] + (next_day['latitude'] - previous_day['latitude']) * factor\n",
    "        lon = previous_day['longitude'] + (next_day['longitude'] - previous_day['longitude']) * factor\n",
    "\n",
    "        interpolated = {\n",
    "            'event_name': \"On the road\",\n",
    "            'event_description': \"\",\n",
    "            'bibliography': \"\",\n",
    "            'start_day': day,\n",
    "            'start_date': date,\n",
    "            'end_day': day,\n",
    "            'end_date': date,\n",
    "            'latitude': lat,\n",
    "            'longitude': lon,\n",
    "            'geometry': Point(lon, lat),\n",
    "            'marker': get_travel_symbol()\n",
    "        }\n",
    "\n",
    "        filtered_gdf = filtered_gdf.append(interpolated, ignore_index=True)\n",
    "    \n",
    "    frame = go.Frame(\n",
    "        data=[\n",
    "            go.Scattermapbox(\n",
    "            lat=filtered_gdf.geometry.y,\n",
    "            lon=filtered_gdf.geometry.x,\n",
    "            marker_symbol=filtered_gdf.marker,\n",
    "            customdata=np.stack(\n",
    "                (\n",
    "                    filtered_gdf['event_name'],\n",
    "                    filtered_gdf['start_date'].apply(prettifyDate),\n",
    "                    filtered_gdf['end_date'].apply(prettifyDate),\n",
    "                    filtered_gdf['event_description'],\n",
    "                    filtered_gdf['bibliography']),\n",
    "                    axis=-1\n",
    "                )\n",
    "            )\n",
    "        ], \n",
    "        traces= [0],\n",
    "        name=day\n",
    "    )\n",
    "    \n",
    "    frames.append(frame)\n",
    "\n",
    "fig.update(frames=frames)"
   ]
  },
  {
   "cell_type": "code",
   "execution_count": null,
   "metadata": {
    "tags": [
     "remove-output"
    ]
   },
   "outputs": [],
   "source": [
    "transition = dict(\n",
    "    duration=100,\n",
    "    easing = \"cubic-in-out\"\n",
    ")\n",
    "frame_anim = dict(\n",
    "    duration=100,\n",
    "    redraw=True\n",
    ")\n",
    "\n",
    "sliders = dict(steps=[],\n",
    "    active=0,\n",
    "    currentvalue=dict(\n",
    "        font=dict(size=12), \n",
    "        prefix='Date: ', \n",
    "        visible=True, \n",
    "        xanchor= 'left'\n",
    "    ),\n",
    "    transition=transition,\n",
    "    x=0.15,\n",
    "    y=0,\n",
    "    len=0.85,\n",
    "    xanchor=\"left\",\n",
    "    yanchor=\"top\"\n",
    ")\n",
    "\n",
    "for day in days:\n",
    "    slider_step = dict(\n",
    "        method='animate',\n",
    "        value=day,\n",
    "        label=prettifyDate(generate_date(day)),\n",
    "        args=[\n",
    "            [day],\n",
    "            dict(\n",
    "                mode='immediate',\n",
    "                frame=frame_anim,\n",
    "                transition=transition\n",
    "            )\n",
    "        ]\n",
    "    )\n",
    "    \n",
    "    sliders[\"steps\"].append(slider_step)\n",
    "\n",
    "fig.update_layout(sliders=[sliders])"
   ]
  },
  {
   "cell_type": "code",
   "execution_count": null,
   "metadata": {
    "tags": [
     "remove-output"
    ]
   },
   "outputs": [],
   "source": [
    "updatemenus = dict(\n",
    "    type='buttons',\n",
    "    showactive=True,\n",
    "    x=0,\n",
    "    y=-0.05,\n",
    "    xanchor = \"left\",\n",
    "    yanchor = \"top\",\n",
    "    direction = \"left\",\n",
    "    buttons=[\n",
    "        dict(\n",
    "            label='Play',\n",
    "            method='animate',\n",
    "            args=[\n",
    "                None, \n",
    "                dict(\n",
    "                    frame=frame_anim,\n",
    "                    transition=transition,\n",
    "                    fromcurrent=True,\n",
    "                    mode='immediate'\n",
    "                )\n",
    "            ]\n",
    "        ),\n",
    "        dict(\n",
    "            label='Pause',\n",
    "            method='animate',\n",
    "            args=[\n",
    "                [None], \n",
    "                dict(\n",
    "                    frame=frame_anim,\n",
    "                    transition=transition,\n",
    "                    mode='immediate'\n",
    "                )\n",
    "            ]\n",
    "        )\n",
    "    ]\n",
    ")\n",
    "\n",
    "fig.update_layout(updatemenus=[updatemenus])"
   ]
  },
  {
   "cell_type": "code",
   "execution_count": null,
   "metadata": {},
   "outputs": [],
   "source": [
    "fig.show()"
   ]
  }
 ],
 "metadata": {
  "kernelspec": {
   "display_name": "branch-env",
   "language": "python",
   "name": "branch-env"
  },
  "language_info": {
   "codemirror_mode": {
    "name": "ipython",
    "version": 3
   },
   "file_extension": ".py",
   "mimetype": "text/x-python",
   "name": "python",
   "nbconvert_exporter": "python",
   "pygments_lexer": "ipython3",
   "version": "3.8.5"
  }
 },
 "nbformat": 4,
 "nbformat_minor": 4
}
